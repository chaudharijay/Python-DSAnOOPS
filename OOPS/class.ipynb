{
 "cells": [
  {
   "cell_type": "markdown",
   "metadata": {},
   "source": [
    "## Class"
   ]
  },
  {
   "cell_type": "code",
   "execution_count": 2,
   "metadata": {},
   "outputs": [
    {
     "name": "stdout",
     "output_type": "stream",
     "text": [
      "jaydya chaudhari\n"
     ]
    }
   ],
   "source": [
    "class Student: #class\n",
    "    name = \"jaydya chaudhari\"\n",
    "\n",
    "s1 = Student() #object\n",
    "print(s1.name)"
   ]
  },
  {
   "cell_type": "code",
   "execution_count": 5,
   "metadata": {},
   "outputs": [
    {
     "name": "stdout",
     "output_type": "stream",
     "text": [
      "blue\n",
      "mazda\n"
     ]
    }
   ],
   "source": [
    "class car:\n",
    "    color = \"blue\"\n",
    "    brand = \"mazda\"\n",
    "\n",
    "car1 = car()\n",
    "print(car1.color)\n",
    "print(car1.brand)\n"
   ]
  },
  {
   "cell_type": "markdown",
   "metadata": {},
   "source": [
    "## constructor"
   ]
  },
  {
   "cell_type": "markdown",
   "metadata": {},
   "source": [
    "- all classes have a function called __init__, which is always being executed when an object is being initiated.\n",
    "\n",
    "- always takes an argument"
   ]
  },
  {
   "cell_type": "code",
   "execution_count": 9,
   "metadata": {},
   "outputs": [
    {
     "name": "stdout",
     "output_type": "stream",
     "text": [
      "adding new student in database\n",
      "jaydya chaudhari 97\n",
      "adding new student in database\n",
      "kaju engineer 99\n",
      "i am defined inside the class, I am called class attr\n"
     ]
    }
   ],
   "source": [
    "class Student: #class\n",
    "    class_attr = (\"i am defined inside the class, I am called class attr\")\n",
    "\n",
    "    # only has self as an argument\n",
    "    def __init__(self):\n",
    "        print(\"this is called contrusctor\")\n",
    "\n",
    "    #paramterized constructors - the one with params with self\n",
    "    def __init__(self, name, marks): \n",
    "        \n",
    "        self.name = name #to use the fullname \n",
    "        self.marks = marks \n",
    "\n",
    "        # data, variable in the class are called as attributes\n",
    "        \n",
    "        # print(self)\n",
    "        print(\"adding new student in database\")\n",
    "        \n",
    "        #the self point towards the new constructor or an object or instance of the class,and is used to access variables that belongs to the class. that is being initialized. Can be named anything other than self.\n",
    "        \n",
    "        \n",
    "    def hello(self):\n",
    "        print(\"this is a method\", self.name, self.marks)\n",
    "\n",
    "    def get_marks(self):\n",
    "        return self.marks\n",
    "    \n",
    "    def hello(self):\n",
    "        print(\"this is a method\", self.name, self.marks)\n",
    "\n",
    "    def get_marks(self):\n",
    "        return self.marks\n",
    "                \n",
    "                \n",
    "\n",
    "s1 = Student(\"jaydya chaudhari\", 97) #object\n",
    "print(s1.name, s1.marks)\n",
    "\n",
    "s2  =Student(\"kaju engineer\", 99) #object 2\n",
    "print(s2.name, s2.marks)\n",
    "\n",
    "print(s1.class_attr)\n",
    "        "
   ]
  },
  {
   "cell_type": "markdown",
   "metadata": {},
   "source": [
    "## Attributes"
   ]
  },
  {
   "cell_type": "markdown",
   "metadata": {},
   "source": [
    "- class.attr =  params defined in the constructor itself. eg. college name for students\n",
    "\n",
    "- obj.attr = are those paramters we pass in newly created object, will be different for all objects.\n",
    "- eg. name of students for same college\n"
   ]
  },
  {
   "cell_type": "markdown",
   "metadata": {},
   "source": [
    "## Methods"
   ]
  },
  {
   "cell_type": "code",
   "execution_count": 11,
   "metadata": {},
   "outputs": [
    {
     "name": "stdout",
     "output_type": "stream",
     "text": [
      "this is a method jaydya chaudhari 97\n",
      "97\n"
     ]
    }
   ],
   "source": [
    "# this method is defined inside class\n",
    "def hello(self):\n",
    "    print(\"this is a method\", self.name, self.marks)\n",
    "\n",
    "s1.hello()\n",
    "print(s1.get_marks())"
   ]
  },
  {
   "cell_type": "markdown",
   "metadata": {},
   "source": [
    "exercise"
   ]
  },
  {
   "cell_type": "code",
   "execution_count": 12,
   "metadata": {},
   "outputs": [
    {
     "name": "stdout",
     "output_type": "stream",
     "text": [
      "jaydyababby\n",
      "[30, 31, 32]\n",
      "kajubaby\n",
      "[90, 91, 92]\n",
      "ourbaby\n",
      "[98, 99, 100]\n",
      "Hello jaydyababby your average score is: 31.0\n",
      "Hello kajubaby your average score is: 91.0\n",
      "Hello ourbaby your average score is: 99.0\n",
      "Hello yedikaju your average score is: 91.0\n"
     ]
    }
   ],
   "source": [
    "class Student1:\n",
    "    def __init__(self, name, marks):\n",
    "        self.name = name\n",
    "        self.marks = marks\n",
    "        print(name)\n",
    "        print(marks)\n",
    "\n",
    "    def average(self):\n",
    "        sum = 0\n",
    "        for value in self.marks:\n",
    "            sum =sum+value\n",
    "        print(\"Hello\", self.name, \"your average score is:\",  sum/3)\n",
    "\n",
    "\n",
    "s1 = Student1(\"jaydyababby\", [30,31,32])\n",
    "s2 = Student1(\"kajubaby\", [90,91,92])\n",
    "s3 = Student1(\"ourbaby\", [98,99,100])\n",
    "\n",
    "s1.average()\n",
    "s2.average()\n",
    "s3.average()\n",
    "\n",
    "s2.name = \"yedikaju\"\n",
    "s2.average()"
   ]
  },
  {
   "cell_type": "code",
   "execution_count": 13,
   "metadata": {},
   "outputs": [
    {
     "name": "stdout",
     "output_type": "stream",
     "text": [
      "hello\n"
     ]
    }
   ],
   "source": []
  },
  {
   "cell_type": "code",
   "execution_count": 16,
   "metadata": {},
   "outputs": [
    {
     "data": {
      "text/plain": [
       "'anonymous'"
      ]
     },
     "execution_count": 16,
     "metadata": {},
     "output_type": "execute_result"
    }
   ],
   "source": []
  }
 ],
 "metadata": {
  "kernelspec": {
   "display_name": "base",
   "language": "python",
   "name": "python3"
  },
  "language_info": {
   "codemirror_mode": {
    "name": "ipython",
    "version": 3
   },
   "file_extension": ".py",
   "mimetype": "text/x-python",
   "name": "python",
   "nbconvert_exporter": "python",
   "pygments_lexer": "ipython3",
   "version": "3.12.4"
  }
 },
 "nbformat": 4,
 "nbformat_minor": 2
}
