{
 "cells": [
  {
   "cell_type": "code",
   "execution_count": 12,
   "metadata": {},
   "outputs": [
    {
     "name": "stdout",
     "output_type": "stream",
     "text": [
      "Rs. 10000 was debited\n",
      "Total balance : 240000\n",
      "Rs. 200000 was credited\n",
      "Total balance : 440000\n"
     ]
    },
    {
     "data": {
      "text/plain": [
       "440000"
      ]
     },
     "execution_count": 12,
     "metadata": {},
     "output_type": "execute_result"
    }
   ],
   "source": [
    "class Account:\n",
    "    def __init__(self, bal, acc):\n",
    "        self.balance = bal\n",
    "        self.accountno = acc\n",
    "\n",
    "    def debit(self, amout):\n",
    "        self.balance -= amout\n",
    "        print(\"Rs.\",amout, \"was debited\" )\n",
    "        print(\"Total balance :\",self.balance)\n",
    "\n",
    "\n",
    "    def credit(self, amout):\n",
    "        self.balance += amout\n",
    "        print(\"Rs.\", amout, \"was credited\")\n",
    "        print(\"Total balance :\",self.balance)\n",
    "\n",
    "    def check_bal(self):\n",
    "        return self.balance\n",
    "    \n",
    "acc1 = Account(10000, 123456)\n",
    "acc1.balance\n",
    "acc1.accountno\n",
    "\n",
    "acc2 = Account(250000, 12345)\n",
    "acc2.check_bal()\n",
    "acc2.debit(10000)\n",
    "acc2.credit(200000)\n",
    "acc2.check_bal()\n"
   ]
  }
 ],
 "metadata": {
  "kernelspec": {
   "display_name": "base",
   "language": "python",
   "name": "python3"
  },
  "language_info": {
   "codemirror_mode": {
    "name": "ipython",
    "version": 3
   },
   "file_extension": ".py",
   "mimetype": "text/x-python",
   "name": "python",
   "nbconvert_exporter": "python",
   "pygments_lexer": "ipython3",
   "version": "3.12.4"
  }
 },
 "nbformat": 4,
 "nbformat_minor": 2
}
