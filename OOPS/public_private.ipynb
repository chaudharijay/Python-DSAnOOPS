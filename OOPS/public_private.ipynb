{
 "cells": [
  {
   "cell_type": "markdown",
   "metadata": {},
   "source": [
    "Conceptual Implementation in Python\n",
    "\n",
    "- Private attributes and methods are meant to be used only within the class and are not accessible from outside the class."
   ]
  },
  {
   "cell_type": "code",
   "execution_count": 8,
   "metadata": {},
   "outputs": [
    {
     "name": "stdout",
     "output_type": "stream",
     "text": [
      "12345\n"
     ]
    },
    {
     "data": {
      "text/plain": [
       "<bound method Account.reset_pass of <__main__.Account object at 0x000002072D127170>>"
      ]
     },
     "execution_count": 8,
     "metadata": {},
     "output_type": "execute_result"
    }
   ],
   "source": [
    "class Account:\n",
    "    def __init__(self, acc, password):\n",
    "        self.account = acc\n",
    "        self.__password = password  #the underscore will make it private\n",
    "\n",
    "    def reset_pass(self):\n",
    "        print(self.password)\n",
    "\n",
    "acc1 =Account(\"12345\", \"abcde\")\n",
    "print(acc1.account)\n",
    "# acc1.__password #will give error saying no attributes names password\n",
    "acc1.reset_pass\n",
    "\n"
   ]
  },
  {
   "cell_type": "code",
   "execution_count": 15,
   "metadata": {},
   "outputs": [
    {
     "name": "stdout",
     "output_type": "stream",
     "text": [
      "I am a private method!\n",
      "None\n"
     ]
    }
   ],
   "source": [
    "class Person:\n",
    "    __name = \"anonymous\"\n",
    "\n",
    "\n",
    "    def __hello(self):  # this makes the method private\n",
    "        print(\"I am a private method!\")\n",
    "\n",
    "    def welcome(self):\n",
    "        self.__hello()\n",
    "\n",
    "\n",
    "p1 = Person()\n",
    "\n",
    "print(p1.welcome())\n",
    "\n",
    "#private methods are mostly made where they need to be called internally in class by other method in the same class"
   ]
  }
 ],
 "metadata": {
  "kernelspec": {
   "display_name": "base",
   "language": "python",
   "name": "python3"
  },
  "language_info": {
   "codemirror_mode": {
    "name": "ipython",
    "version": 3
   },
   "file_extension": ".py",
   "mimetype": "text/x-python",
   "name": "python",
   "nbconvert_exporter": "python",
   "pygments_lexer": "ipython3",
   "version": "3.12.4"
  }
 },
 "nbformat": 4,
 "nbformat_minor": 2
}
