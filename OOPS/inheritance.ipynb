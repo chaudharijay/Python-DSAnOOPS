{
 "cells": [
  {
   "cell_type": "markdown",
   "metadata": {},
   "source": [
    "## Inheritance\n",
    "\n",
    "- When one class (child / derived) derives the properties and methods of another class (parent / base)."
   ]
  },
  {
   "cell_type": "code",
   "execution_count": 3,
   "metadata": {},
   "outputs": [
    {
     "name": "stdout",
     "output_type": "stream",
     "text": [
      "punch\n",
      "altroz\n",
      "car started...\n",
      "None\n",
      "car is stopped...\n",
      "None\n"
     ]
    }
   ],
   "source": [
    "class Car:\n",
    "    color = 'black'\n",
    "    @staticmethod\n",
    "    def start():\n",
    "        print(\"car started...\")\n",
    "\n",
    "    @staticmethod\n",
    "    def stop():\n",
    "        print(\"car is stopped...\")\n",
    "\n",
    "class tatacar(Car):\n",
    "    def __init__(self, name):\n",
    "        self.name = name\n",
    "\n",
    "car1 = tatacar(\"punch\")\n",
    "car2 = tatacar(\"altroz\")\n",
    "\n",
    "print(car1.name)\n",
    "print(car2.name)\n",
    "print(car1.start())\n",
    "print(car2.stop())\n",
    "\n"
   ]
  },
  {
   "cell_type": "markdown",
   "metadata": {},
   "source": [
    "## Types -\n",
    "\n",
    "* single - a type of inheritance in object-oriented programming where a derived class inherits from a single base class\n",
    "\n",
    "* multi-level - a type of class inheritance in object-oriented programming where a class inherits properties from multiple ancestor classes.\n",
    "\n",
    "* multiple - a programming concept where a class can inherit features from more than one parent class"
   ]
  },
  {
   "cell_type": "markdown",
   "metadata": {},
   "source": [
    "### multi-level inheritance"
   ]
  },
  {
   "cell_type": "code",
   "execution_count": 13,
   "metadata": {},
   "outputs": [
    {
     "name": "stdout",
     "output_type": "stream",
     "text": [
      "car started...\n"
     ]
    }
   ],
   "source": [
    "# car1 --> toyotacar --> fortuner -->.....\n",
    "\n",
    "class Car1:\n",
    "    @staticmethod\n",
    "    def start():\n",
    "        print(\"car started...\")\n",
    "\n",
    "    @staticmethod\n",
    "    def stop():\n",
    "        print(\"car is stopped...\")\n",
    "\n",
    "class toyotacar(Car):\n",
    "    def __init__(self, brand):\n",
    "        self.brand = brand\n",
    "\n",
    "class Fortuner(toyotacar):\n",
    "    def __init__(self, type):\n",
    "        self.type = type\n",
    "\n",
    "car1 = Fortuner(\"CNG\")\n",
    "car1.start()\n"
   ]
  },
  {
   "cell_type": "markdown",
   "metadata": {},
   "source": [
    "## Multiple Inheritance"
   ]
  },
  {
   "cell_type": "code",
   "execution_count": 15,
   "metadata": {},
   "outputs": [
    {
     "name": "stdout",
     "output_type": "stream",
     "text": [
      "welcome to class A\n",
      "welcome to class B\n",
      "welcome to class C\n"
     ]
    }
   ],
   "source": [
    "class A:\n",
    "    varA = \"welcome to class A\"\n",
    "\n",
    "class B:\n",
    "    varB = \"welcome to class B\"\n",
    "\n",
    "class C(A, B):\n",
    "    varC = \"welcome to class C\"\n",
    "\n",
    "c1 = C()\n",
    "print(c1.varA)\n",
    "print(c1.varB)\n",
    "print(c1.varC)"
   ]
  },
  {
   "cell_type": "markdown",
   "metadata": {},
   "source": [
    "### super method - "
   ]
  },
  {
   "cell_type": "code",
   "execution_count": 23,
   "metadata": {},
   "outputs": [
    {
     "name": "stdout",
     "output_type": "stream",
     "text": [
      "car started...\n"
     ]
    },
    {
     "data": {
      "text/plain": [
       "'electric'"
      ]
     },
     "execution_count": 23,
     "metadata": {},
     "output_type": "execute_result"
    }
   ],
   "source": [
    "class Car1:\n",
    "\n",
    "    def __init__(self, type):\n",
    "        self.type = type\n",
    "\n",
    "    @staticmethod\n",
    "    def start():\n",
    "        print(\"car started...\")\n",
    "\n",
    "    @staticmethod\n",
    "    def stop():\n",
    "        print(\"car is stopped...\")\n",
    "\n",
    "class toyotacar(Car1):\n",
    "    def __init__(self, name, type):\n",
    "        self.brand = name\n",
    "        \n",
    "        #self.type = type , will just create a attribute inside toyotacar but we want to access the type attr from main class Car1.\n",
    "        # for that we use super keyword\n",
    "        super().__init__(type) \n",
    "        # from superclass --> constructor --> call type attribute\n",
    "        \n",
    "        super().start() #calls stary from Car1\n",
    "\n",
    "\n",
    "car1 = toyotacar(\"prius\", \"electric\")\n",
    "car1.type\n",
    "\n"
   ]
  }
 ],
 "metadata": {
  "kernelspec": {
   "display_name": "base",
   "language": "python",
   "name": "python3"
  },
  "language_info": {
   "codemirror_mode": {
    "name": "ipython",
    "version": 3
   },
   "file_extension": ".py",
   "mimetype": "text/x-python",
   "name": "python",
   "nbconvert_exporter": "python",
   "pygments_lexer": "ipython3",
   "version": "3.12.4"
  }
 },
 "nbformat": 4,
 "nbformat_minor": 2
}
