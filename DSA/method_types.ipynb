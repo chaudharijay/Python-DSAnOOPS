{
 "cells": [
  {
   "cell_type": "markdown",
   "metadata": {},
   "source": [
    "types of method -\n",
    "\n",
    "- static\n",
    " - class\n",
    " - instance"
   ]
  },
  {
   "cell_type": "markdown",
   "metadata": {},
   "source": [
    "## static method"
   ]
  },
  {
   "cell_type": "markdown",
   "metadata": {},
   "source": [
    "static methods dont have self parameter (work at class level)"
   ]
  },
  {
   "cell_type": "code",
   "execution_count": 39,
   "metadata": {},
   "outputs": [
    {
     "name": "stdout",
     "output_type": "stream",
     "text": [
      "hello\n"
     ]
    }
   ],
   "source": [
    "class static:\n",
    "    @staticmethod #decorator - changes the behaviour of a normal function\n",
    "    def hello():\n",
    "        print(\"hello\")\n",
    "\n",
    "hey = static.hello()"
   ]
  },
  {
   "cell_type": "code",
   "execution_count": 40,
   "metadata": {},
   "outputs": [
    {
     "data": {
      "text/plain": [
       "'anonymous'"
      ]
     },
     "execution_count": 40,
     "metadata": {},
     "output_type": "execute_result"
    }
   ],
   "source": [
    "class Person:\n",
    "    name = \"anonymous\"\n",
    "\n",
    "    def changeName(self, name):\n",
    "        self.name = name \n",
    "        # self.__name__.name = \"Rahul\"\n",
    "        # Person.name = name, this will change the name in both as rahul kumar\n",
    "\n",
    "p1 = Person()\n",
    "p1.changeName(\"rahul kumar\")\n",
    "p1.name #this will add name as rahul \n",
    "\n",
    "Person.name # but if we run this we will still get the anonymous as output"
   ]
  },
  {
   "cell_type": "markdown",
   "metadata": {},
   "source": [
    "## class method"
   ]
  },
  {
   "cell_type": "markdown",
   "metadata": {},
   "source": [
    "- a class method is bound to the class and receives the class as an implicit first argument.\n",
    "-  static method can't access or modify class state and geenrally for utility."
   ]
  },
  {
   "cell_type": "code",
   "execution_count": 41,
   "metadata": {},
   "outputs": [
    {
     "data": {
      "text/plain": [
       "'rahul kumar'"
      ]
     },
     "execution_count": 41,
     "metadata": {},
     "output_type": "execute_result"
    }
   ],
   "source": [
    "class Person:\n",
    "    name = \"anonymous\"\n",
    "\n",
    "    @classmethod\n",
    "    def changeName(cls, name):\n",
    "        cls.name = name\n",
    "\n",
    "        \n",
    "p1 = Person()\n",
    "p1.changeName(\"rahul kumar\")\n",
    "p1.name #this will add name as rahul \n",
    "\n",
    "Person.name # but if we run this we will still get the anonymous as output"
   ]
  },
  {
   "cell_type": "markdown",
   "metadata": {},
   "source": [
    "## decorator"
   ]
  },
  {
   "cell_type": "code",
   "execution_count": 46,
   "metadata": {},
   "outputs": [],
   "source": [
    "class student:\n",
    "    def __init__(self, phy, chem, math):\n",
    "        self.phy = phy\n",
    "        self.chem = chem\n",
    "        self.math = math\n",
    "        # self.percentage = str((self.phy + self.chem + self.math)/3) + \"%\"\n",
    "\n",
    "\n",
    "    # def calperc(self):\n",
    "    #     self.percentage = str((self.phy + self.chem + self.math)/3) + \"%\"\n",
    "\n",
    "    #now any value coming here will be converted to a property\n",
    "    @property\n",
    "    def percentage(self):\n",
    "        return str((self.phy + self.chem + self.math)/3) + \"%\""
   ]
  },
  {
   "cell_type": "code",
   "execution_count": 48,
   "metadata": {},
   "outputs": [
    {
     "name": "stdout",
     "output_type": "stream",
     "text": [
      "98.0%\n"
     ]
    }
   ],
   "source": [
    "stud1 = student(98,99,97)\n",
    "print(stud1.percentage)"
   ]
  },
  {
   "cell_type": "code",
   "execution_count": 49,
   "metadata": {},
   "outputs": [
    {
     "data": {
      "text/plain": [
       "86"
      ]
     },
     "execution_count": 49,
     "metadata": {},
     "output_type": "execute_result"
    }
   ],
   "source": [
    "# suppose teacher changes the phy marks to 86\n",
    "stud1.phy = 86\n",
    "stud1.phy"
   ]
  },
  {
   "cell_type": "code",
   "execution_count": 50,
   "metadata": {},
   "outputs": [
    {
     "data": {
      "text/plain": [
       "'94.0%'"
      ]
     },
     "execution_count": 50,
     "metadata": {},
     "output_type": "execute_result"
    }
   ],
   "source": [
    "# but if you get the average it will still be the same before changing marks\n",
    "stud1.percentage"
   ]
  },
  {
   "cell_type": "code",
   "execution_count": 37,
   "metadata": {},
   "outputs": [],
   "source": []
  }
 ],
 "metadata": {
  "kernelspec": {
   "display_name": "base",
   "language": "python",
   "name": "python3"
  },
  "language_info": {
   "codemirror_mode": {
    "name": "ipython",
    "version": 3
   },
   "file_extension": ".py",
   "mimetype": "text/x-python",
   "name": "python",
   "nbconvert_exporter": "python",
   "pygments_lexer": "ipython3",
   "version": "3.12.4"
  }
 },
 "nbformat": 4,
 "nbformat_minor": 2
}
